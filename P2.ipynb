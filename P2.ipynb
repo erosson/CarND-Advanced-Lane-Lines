{
 "cells": [
  {
   "cell_type": "code",
   "execution_count": null,
   "metadata": {},
   "outputs": [],
   "source": [
    "# This notebook is a light wrapper around the `p2` module for display and experimenting.\n",
    "# The \"real\" code is in the `p2` directory!\n",
    "\n",
    "%reload_ext autoreload\n",
    "%autoreload 2\n",
    "from IPython.core.display import display, HTML\n",
    "import p2.main as p2\n",
    "from p2.main import View\n",
    "\n",
    "inputs = []\n",
    "# inputs += p2.test_images_paths()\n",
    "inputs.append(p2.PROJECT_VIDEO_PATH),\n",
    "# inputs.append(p2.CHALLENGE_VIDEO_PATH),\n",
    "# inputs.append(p2.CHALLENGE2_VIDEO_PATH),\n",
    "\n",
    "params = p2.default_params()\n",
    "params.out_path_timestamp=True  # Prevent browser caching - different output filename every run\n",
    "# params.subclip = (22, 24)\n",
    "\n",
    "views = [View.FULL]\n",
    "# views = [View.HISTOGRAM_WINDOWS]\n",
    "\n",
    "print(inputs, views)\n",
    "for item in p2.main(inputs=inputs, params=params, views=views):\n",
    "    item.ipython()\n"
   ]
  }
 ],
 "metadata": {
  "kernelspec": {
   "display_name": "Python 3.7.5 64-bit ('CarND-LaneLines-P1': pipenv)",
   "language": "python",
   "name": "python37564bitcarndlanelinesp1pipenv63f1cd7bb1ec4cae97bb8bb43652e5df"
  },
  "language_info": {
   "codemirror_mode": {
    "name": "ipython",
    "version": 3
   },
   "file_extension": ".py",
   "mimetype": "text/x-python",
   "name": "python",
   "nbconvert_exporter": "python",
   "pygments_lexer": "ipython3",
   "version": "3.7.5"
  }
 },
 "nbformat": 4,
 "nbformat_minor": 4
}
